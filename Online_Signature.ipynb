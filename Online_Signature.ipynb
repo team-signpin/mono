{
  "nbformat": 4,
  "nbformat_minor": 0,
  "metadata": {
    "colab": {
      "name": "Online Signature",
      "provenance": [],
      "collapsed_sections": [],
      "toc_visible": true,
      "mount_file_id": "1vuwXMFMqdlXgmzbShwsS1_91Bo3P54_G",
      "authorship_tag": "ABX9TyPurm6hDCxjQYob2SXBtnHE",
      "include_colab_link": true
    },
    "kernelspec": {
      "name": "python3",
      "display_name": "Python 3"
    },
    "language_info": {
      "name": "python"
    }
  },
  "cells": [
    {
      "cell_type": "markdown",
      "metadata": {
        "id": "view-in-github",
        "colab_type": "text"
      },
      "source": [
        "<a href=\"https://colab.research.google.com/github/team-signpin/mono/blob/master/Online_Signature.ipynb\" target=\"_parent\"><img src=\"https://colab.research.google.com/assets/colab-badge.svg\" alt=\"Open In Colab\"/></a>"
      ]
    },
    {
      "cell_type": "code",
      "execution_count": 2,
      "metadata": {
        "colab": {
          "base_uri": "https://localhost:8080/"
        },
        "id": "9vJLFk3Q57a7",
        "outputId": "6af544e0-71b0-4f22-cb28-86b4cdb7b032"
      },
      "outputs": [
        {
          "output_type": "stream",
          "name": "stdout",
          "text": [
            "Drive already mounted at /content/drive; to attempt to forcibly remount, call drive.mount(\"/content/drive\", force_remount=True).\n"
          ]
        }
      ],
      "source": [
        "from google.colab import drive\n",
        "drive.mount('/content/drive')"
      ]
    },
    {
      "cell_type": "code",
      "source": [
        "import json\n",
        "import numpy as np\n",
        "from sklearn.preprocessing import normalize\n",
        "import matplotlib.pyplot as plt"
      ],
      "metadata": {
        "id": "1rfXk48Hx2Ww"
      },
      "execution_count": 3,
      "outputs": []
    },
    {
      "cell_type": "code",
      "source": [
        "import os\n",
        "\n",
        "# [x[0] for x in os.walk(\"./\")]\n",
        "#for x in next(os.walk('./drive/MyDrive/Work/Thesis/MOBISIG/USER1'))[2]:\n",
        "# print(x)"
      ],
      "metadata": {
        "id": "0KILxwr0u-gK"
      },
      "execution_count": 4,
      "outputs": []
    },
    {
      "cell_type": "code",
      "source": [
        "import pandas as pd\n",
        "signature1 = pd.read_csv('/content/drive/MyDrive/Work/Thesis/MOBISIG/USER1/SIGN_FOR_USER1_USER2_2.csv')\n",
        "signature1.head()"
      ],
      "metadata": {
        "colab": {
          "base_uri": "https://localhost:8080/",
          "height": 270
        },
        "id": "4EMGRkRdwW_Q",
        "outputId": "30f538c0-fafb-4774-9df9-261e892ccdf7"
      },
      "execution_count": 5,
      "outputs": [
        {
          "output_type": "execute_result",
          "data": {
            "text/plain": [
              "           x          y  timestamp  pressure  fingerarea   velocityx  \\\n",
              "0  419.34134  564.96450    9013372    0.7125    0.127660    0.000000   \n",
              "1  419.34134  564.96450    9013396    0.7250    0.127660    0.029627   \n",
              "2  419.34134  564.96450    9013429    0.7125    0.085106    0.022956   \n",
              "3  425.52330  525.40370    9013446    0.7000    0.117021  276.981260   \n",
              "4  436.22290  480.65332    9013463    0.6750    0.074468  606.211850   \n",
              "\n",
              "     velocityy    accelx    accely    accelz  gyrox  gyroy  gyroz  \n",
              "0     0.000000 -0.002936 -0.025108 -0.046257    0.0    0.0    0.0  \n",
              "1     0.037344 -0.002936 -0.025108 -0.046257    0.0    0.0    0.0  \n",
              "2     0.029352 -0.002936 -0.025108 -0.046257    0.0    0.0    0.0  \n",
              "3 -1857.441900 -0.002936 -0.025108 -0.046257    0.0    0.0    0.0  \n",
              "4 -3012.173300 -0.002936 -0.025108 -0.046257    0.0    0.0    0.0  "
            ],
            "text/html": [
              "\n",
              "  <div id=\"df-90494b0e-2559-433b-a5fb-5200f250e9d9\">\n",
              "    <div class=\"colab-df-container\">\n",
              "      <div>\n",
              "<style scoped>\n",
              "    .dataframe tbody tr th:only-of-type {\n",
              "        vertical-align: middle;\n",
              "    }\n",
              "\n",
              "    .dataframe tbody tr th {\n",
              "        vertical-align: top;\n",
              "    }\n",
              "\n",
              "    .dataframe thead th {\n",
              "        text-align: right;\n",
              "    }\n",
              "</style>\n",
              "<table border=\"1\" class=\"dataframe\">\n",
              "  <thead>\n",
              "    <tr style=\"text-align: right;\">\n",
              "      <th></th>\n",
              "      <th>x</th>\n",
              "      <th>y</th>\n",
              "      <th>timestamp</th>\n",
              "      <th>pressure</th>\n",
              "      <th>fingerarea</th>\n",
              "      <th>velocityx</th>\n",
              "      <th>velocityy</th>\n",
              "      <th>accelx</th>\n",
              "      <th>accely</th>\n",
              "      <th>accelz</th>\n",
              "      <th>gyrox</th>\n",
              "      <th>gyroy</th>\n",
              "      <th>gyroz</th>\n",
              "    </tr>\n",
              "  </thead>\n",
              "  <tbody>\n",
              "    <tr>\n",
              "      <th>0</th>\n",
              "      <td>419.34134</td>\n",
              "      <td>564.96450</td>\n",
              "      <td>9013372</td>\n",
              "      <td>0.7125</td>\n",
              "      <td>0.127660</td>\n",
              "      <td>0.000000</td>\n",
              "      <td>0.000000</td>\n",
              "      <td>-0.002936</td>\n",
              "      <td>-0.025108</td>\n",
              "      <td>-0.046257</td>\n",
              "      <td>0.0</td>\n",
              "      <td>0.0</td>\n",
              "      <td>0.0</td>\n",
              "    </tr>\n",
              "    <tr>\n",
              "      <th>1</th>\n",
              "      <td>419.34134</td>\n",
              "      <td>564.96450</td>\n",
              "      <td>9013396</td>\n",
              "      <td>0.7250</td>\n",
              "      <td>0.127660</td>\n",
              "      <td>0.029627</td>\n",
              "      <td>0.037344</td>\n",
              "      <td>-0.002936</td>\n",
              "      <td>-0.025108</td>\n",
              "      <td>-0.046257</td>\n",
              "      <td>0.0</td>\n",
              "      <td>0.0</td>\n",
              "      <td>0.0</td>\n",
              "    </tr>\n",
              "    <tr>\n",
              "      <th>2</th>\n",
              "      <td>419.34134</td>\n",
              "      <td>564.96450</td>\n",
              "      <td>9013429</td>\n",
              "      <td>0.7125</td>\n",
              "      <td>0.085106</td>\n",
              "      <td>0.022956</td>\n",
              "      <td>0.029352</td>\n",
              "      <td>-0.002936</td>\n",
              "      <td>-0.025108</td>\n",
              "      <td>-0.046257</td>\n",
              "      <td>0.0</td>\n",
              "      <td>0.0</td>\n",
              "      <td>0.0</td>\n",
              "    </tr>\n",
              "    <tr>\n",
              "      <th>3</th>\n",
              "      <td>425.52330</td>\n",
              "      <td>525.40370</td>\n",
              "      <td>9013446</td>\n",
              "      <td>0.7000</td>\n",
              "      <td>0.117021</td>\n",
              "      <td>276.981260</td>\n",
              "      <td>-1857.441900</td>\n",
              "      <td>-0.002936</td>\n",
              "      <td>-0.025108</td>\n",
              "      <td>-0.046257</td>\n",
              "      <td>0.0</td>\n",
              "      <td>0.0</td>\n",
              "      <td>0.0</td>\n",
              "    </tr>\n",
              "    <tr>\n",
              "      <th>4</th>\n",
              "      <td>436.22290</td>\n",
              "      <td>480.65332</td>\n",
              "      <td>9013463</td>\n",
              "      <td>0.6750</td>\n",
              "      <td>0.074468</td>\n",
              "      <td>606.211850</td>\n",
              "      <td>-3012.173300</td>\n",
              "      <td>-0.002936</td>\n",
              "      <td>-0.025108</td>\n",
              "      <td>-0.046257</td>\n",
              "      <td>0.0</td>\n",
              "      <td>0.0</td>\n",
              "      <td>0.0</td>\n",
              "    </tr>\n",
              "  </tbody>\n",
              "</table>\n",
              "</div>\n",
              "      <button class=\"colab-df-convert\" onclick=\"convertToInteractive('df-90494b0e-2559-433b-a5fb-5200f250e9d9')\"\n",
              "              title=\"Convert this dataframe to an interactive table.\"\n",
              "              style=\"display:none;\">\n",
              "        \n",
              "  <svg xmlns=\"http://www.w3.org/2000/svg\" height=\"24px\"viewBox=\"0 0 24 24\"\n",
              "       width=\"24px\">\n",
              "    <path d=\"M0 0h24v24H0V0z\" fill=\"none\"/>\n",
              "    <path d=\"M18.56 5.44l.94 2.06.94-2.06 2.06-.94-2.06-.94-.94-2.06-.94 2.06-2.06.94zm-11 1L8.5 8.5l.94-2.06 2.06-.94-2.06-.94L8.5 2.5l-.94 2.06-2.06.94zm10 10l.94 2.06.94-2.06 2.06-.94-2.06-.94-.94-2.06-.94 2.06-2.06.94z\"/><path d=\"M17.41 7.96l-1.37-1.37c-.4-.4-.92-.59-1.43-.59-.52 0-1.04.2-1.43.59L10.3 9.45l-7.72 7.72c-.78.78-.78 2.05 0 2.83L4 21.41c.39.39.9.59 1.41.59.51 0 1.02-.2 1.41-.59l7.78-7.78 2.81-2.81c.8-.78.8-2.07 0-2.86zM5.41 20L4 18.59l7.72-7.72 1.47 1.35L5.41 20z\"/>\n",
              "  </svg>\n",
              "      </button>\n",
              "      \n",
              "  <style>\n",
              "    .colab-df-container {\n",
              "      display:flex;\n",
              "      flex-wrap:wrap;\n",
              "      gap: 12px;\n",
              "    }\n",
              "\n",
              "    .colab-df-convert {\n",
              "      background-color: #E8F0FE;\n",
              "      border: none;\n",
              "      border-radius: 50%;\n",
              "      cursor: pointer;\n",
              "      display: none;\n",
              "      fill: #1967D2;\n",
              "      height: 32px;\n",
              "      padding: 0 0 0 0;\n",
              "      width: 32px;\n",
              "    }\n",
              "\n",
              "    .colab-df-convert:hover {\n",
              "      background-color: #E2EBFA;\n",
              "      box-shadow: 0px 1px 2px rgba(60, 64, 67, 0.3), 0px 1px 3px 1px rgba(60, 64, 67, 0.15);\n",
              "      fill: #174EA6;\n",
              "    }\n",
              "\n",
              "    [theme=dark] .colab-df-convert {\n",
              "      background-color: #3B4455;\n",
              "      fill: #D2E3FC;\n",
              "    }\n",
              "\n",
              "    [theme=dark] .colab-df-convert:hover {\n",
              "      background-color: #434B5C;\n",
              "      box-shadow: 0px 1px 3px 1px rgba(0, 0, 0, 0.15);\n",
              "      filter: drop-shadow(0px 1px 2px rgba(0, 0, 0, 0.3));\n",
              "      fill: #FFFFFF;\n",
              "    }\n",
              "  </style>\n",
              "\n",
              "      <script>\n",
              "        const buttonEl =\n",
              "          document.querySelector('#df-90494b0e-2559-433b-a5fb-5200f250e9d9 button.colab-df-convert');\n",
              "        buttonEl.style.display =\n",
              "          google.colab.kernel.accessAllowed ? 'block' : 'none';\n",
              "\n",
              "        async function convertToInteractive(key) {\n",
              "          const element = document.querySelector('#df-90494b0e-2559-433b-a5fb-5200f250e9d9');\n",
              "          const dataTable =\n",
              "            await google.colab.kernel.invokeFunction('convertToInteractive',\n",
              "                                                     [key], {});\n",
              "          if (!dataTable) return;\n",
              "\n",
              "          const docLinkHtml = 'Like what you see? Visit the ' +\n",
              "            '<a target=\"_blank\" href=https://colab.research.google.com/notebooks/data_table.ipynb>data table notebook</a>'\n",
              "            + ' to learn more about interactive tables.';\n",
              "          element.innerHTML = '';\n",
              "          dataTable['output_type'] = 'display_data';\n",
              "          await google.colab.output.renderOutput(dataTable, element);\n",
              "          const docLink = document.createElement('div');\n",
              "          docLink.innerHTML = docLinkHtml;\n",
              "          element.appendChild(docLink);\n",
              "        }\n",
              "      </script>\n",
              "    </div>\n",
              "  </div>\n",
              "  "
            ]
          },
          "metadata": {},
          "execution_count": 5
        }
      ]
    },
    {
      "cell_type": "code",
      "source": [
        "s1_coords = signature1.iloc[:,:2]\n",
        "s1_coords"
      ],
      "metadata": {
        "colab": {
          "base_uri": "https://localhost:8080/",
          "height": 424
        },
        "id": "1K_8V4hoxcTX",
        "outputId": "78adfc2a-331f-4af1-8b91-72369cc16394"
      },
      "execution_count": 6,
      "outputs": [
        {
          "output_type": "execute_result",
          "data": {
            "text/plain": [
              "             x          y\n",
              "0    419.34134  564.96450\n",
              "1    419.34134  564.96450\n",
              "2    419.34134  564.96450\n",
              "3    425.52330  525.40370\n",
              "4    436.22290  480.65332\n",
              "..         ...        ...\n",
              "141  927.80164  469.99194\n",
              "142  950.91940  444.88843\n",
              "143  972.65660  426.43884\n",
              "144  979.65894  420.13843\n",
              "145  979.65894  420.13843\n",
              "\n",
              "[146 rows x 2 columns]"
            ],
            "text/html": [
              "\n",
              "  <div id=\"df-c373379d-2294-4cf0-b1a5-4dc5c19a81f7\">\n",
              "    <div class=\"colab-df-container\">\n",
              "      <div>\n",
              "<style scoped>\n",
              "    .dataframe tbody tr th:only-of-type {\n",
              "        vertical-align: middle;\n",
              "    }\n",
              "\n",
              "    .dataframe tbody tr th {\n",
              "        vertical-align: top;\n",
              "    }\n",
              "\n",
              "    .dataframe thead th {\n",
              "        text-align: right;\n",
              "    }\n",
              "</style>\n",
              "<table border=\"1\" class=\"dataframe\">\n",
              "  <thead>\n",
              "    <tr style=\"text-align: right;\">\n",
              "      <th></th>\n",
              "      <th>x</th>\n",
              "      <th>y</th>\n",
              "    </tr>\n",
              "  </thead>\n",
              "  <tbody>\n",
              "    <tr>\n",
              "      <th>0</th>\n",
              "      <td>419.34134</td>\n",
              "      <td>564.96450</td>\n",
              "    </tr>\n",
              "    <tr>\n",
              "      <th>1</th>\n",
              "      <td>419.34134</td>\n",
              "      <td>564.96450</td>\n",
              "    </tr>\n",
              "    <tr>\n",
              "      <th>2</th>\n",
              "      <td>419.34134</td>\n",
              "      <td>564.96450</td>\n",
              "    </tr>\n",
              "    <tr>\n",
              "      <th>3</th>\n",
              "      <td>425.52330</td>\n",
              "      <td>525.40370</td>\n",
              "    </tr>\n",
              "    <tr>\n",
              "      <th>4</th>\n",
              "      <td>436.22290</td>\n",
              "      <td>480.65332</td>\n",
              "    </tr>\n",
              "    <tr>\n",
              "      <th>...</th>\n",
              "      <td>...</td>\n",
              "      <td>...</td>\n",
              "    </tr>\n",
              "    <tr>\n",
              "      <th>141</th>\n",
              "      <td>927.80164</td>\n",
              "      <td>469.99194</td>\n",
              "    </tr>\n",
              "    <tr>\n",
              "      <th>142</th>\n",
              "      <td>950.91940</td>\n",
              "      <td>444.88843</td>\n",
              "    </tr>\n",
              "    <tr>\n",
              "      <th>143</th>\n",
              "      <td>972.65660</td>\n",
              "      <td>426.43884</td>\n",
              "    </tr>\n",
              "    <tr>\n",
              "      <th>144</th>\n",
              "      <td>979.65894</td>\n",
              "      <td>420.13843</td>\n",
              "    </tr>\n",
              "    <tr>\n",
              "      <th>145</th>\n",
              "      <td>979.65894</td>\n",
              "      <td>420.13843</td>\n",
              "    </tr>\n",
              "  </tbody>\n",
              "</table>\n",
              "<p>146 rows × 2 columns</p>\n",
              "</div>\n",
              "      <button class=\"colab-df-convert\" onclick=\"convertToInteractive('df-c373379d-2294-4cf0-b1a5-4dc5c19a81f7')\"\n",
              "              title=\"Convert this dataframe to an interactive table.\"\n",
              "              style=\"display:none;\">\n",
              "        \n",
              "  <svg xmlns=\"http://www.w3.org/2000/svg\" height=\"24px\"viewBox=\"0 0 24 24\"\n",
              "       width=\"24px\">\n",
              "    <path d=\"M0 0h24v24H0V0z\" fill=\"none\"/>\n",
              "    <path d=\"M18.56 5.44l.94 2.06.94-2.06 2.06-.94-2.06-.94-.94-2.06-.94 2.06-2.06.94zm-11 1L8.5 8.5l.94-2.06 2.06-.94-2.06-.94L8.5 2.5l-.94 2.06-2.06.94zm10 10l.94 2.06.94-2.06 2.06-.94-2.06-.94-.94-2.06-.94 2.06-2.06.94z\"/><path d=\"M17.41 7.96l-1.37-1.37c-.4-.4-.92-.59-1.43-.59-.52 0-1.04.2-1.43.59L10.3 9.45l-7.72 7.72c-.78.78-.78 2.05 0 2.83L4 21.41c.39.39.9.59 1.41.59.51 0 1.02-.2 1.41-.59l7.78-7.78 2.81-2.81c.8-.78.8-2.07 0-2.86zM5.41 20L4 18.59l7.72-7.72 1.47 1.35L5.41 20z\"/>\n",
              "  </svg>\n",
              "      </button>\n",
              "      \n",
              "  <style>\n",
              "    .colab-df-container {\n",
              "      display:flex;\n",
              "      flex-wrap:wrap;\n",
              "      gap: 12px;\n",
              "    }\n",
              "\n",
              "    .colab-df-convert {\n",
              "      background-color: #E8F0FE;\n",
              "      border: none;\n",
              "      border-radius: 50%;\n",
              "      cursor: pointer;\n",
              "      display: none;\n",
              "      fill: #1967D2;\n",
              "      height: 32px;\n",
              "      padding: 0 0 0 0;\n",
              "      width: 32px;\n",
              "    }\n",
              "\n",
              "    .colab-df-convert:hover {\n",
              "      background-color: #E2EBFA;\n",
              "      box-shadow: 0px 1px 2px rgba(60, 64, 67, 0.3), 0px 1px 3px 1px rgba(60, 64, 67, 0.15);\n",
              "      fill: #174EA6;\n",
              "    }\n",
              "\n",
              "    [theme=dark] .colab-df-convert {\n",
              "      background-color: #3B4455;\n",
              "      fill: #D2E3FC;\n",
              "    }\n",
              "\n",
              "    [theme=dark] .colab-df-convert:hover {\n",
              "      background-color: #434B5C;\n",
              "      box-shadow: 0px 1px 3px 1px rgba(0, 0, 0, 0.15);\n",
              "      filter: drop-shadow(0px 1px 2px rgba(0, 0, 0, 0.3));\n",
              "      fill: #FFFFFF;\n",
              "    }\n",
              "  </style>\n",
              "\n",
              "      <script>\n",
              "        const buttonEl =\n",
              "          document.querySelector('#df-c373379d-2294-4cf0-b1a5-4dc5c19a81f7 button.colab-df-convert');\n",
              "        buttonEl.style.display =\n",
              "          google.colab.kernel.accessAllowed ? 'block' : 'none';\n",
              "\n",
              "        async function convertToInteractive(key) {\n",
              "          const element = document.querySelector('#df-c373379d-2294-4cf0-b1a5-4dc5c19a81f7');\n",
              "          const dataTable =\n",
              "            await google.colab.kernel.invokeFunction('convertToInteractive',\n",
              "                                                     [key], {});\n",
              "          if (!dataTable) return;\n",
              "\n",
              "          const docLinkHtml = 'Like what you see? Visit the ' +\n",
              "            '<a target=\"_blank\" href=https://colab.research.google.com/notebooks/data_table.ipynb>data table notebook</a>'\n",
              "            + ' to learn more about interactive tables.';\n",
              "          element.innerHTML = '';\n",
              "          dataTable['output_type'] = 'display_data';\n",
              "          await google.colab.output.renderOutput(dataTable, element);\n",
              "          const docLink = document.createElement('div');\n",
              "          docLink.innerHTML = docLinkHtml;\n",
              "          element.appendChild(docLink);\n",
              "        }\n",
              "      </script>\n",
              "    </div>\n",
              "  </div>\n",
              "  "
            ]
          },
          "metadata": {},
          "execution_count": 6
        }
      ]
    },
    {
      "cell_type": "code",
      "source": [
        "s1_coords.plot()"
      ],
      "metadata": {
        "colab": {
          "base_uri": "https://localhost:8080/",
          "height": 283
        },
        "id": "NcpX001RzyV9",
        "outputId": "7017591b-0180-4321-acfb-22f5d0b40f8d"
      },
      "execution_count": 7,
      "outputs": [
        {
          "output_type": "execute_result",
          "data": {
            "text/plain": [
              "<matplotlib.axes._subplots.AxesSubplot at 0x7f7a00c4dd90>"
            ]
          },
          "metadata": {},
          "execution_count": 7
        },
        {
          "output_type": "display_data",
          "data": {
            "text/plain": [
              "<Figure size 432x288 with 1 Axes>"
            ],
            "image/png": "[encoded data removed]"
          },
          "metadata": {
            "needs_background": "light"
          }
        }
      ]
    },
    {
      "cell_type": "markdown",
      "source": [
        "## Fetch all signatures related to a single user\n",
        "\n"
      ],
      "metadata": {
        "id": "bjMCN18iXBZR"
      }
    },
    {
      "cell_type": "code",
      "source": [
        "# list of all users files\n",
        "from os import listdir\n",
        "user_list = listdir(\"./drive/MyDrive/Work/Thesis/MOBISIG\")\n",
        "user_list = user_list[2:] # removes stats and users file\n",
        "user_list = [int(x[4:]) for x in user_list]\n",
        "user_list.sort()\n",
        "user_list = [\"USER\" + str(x) for x in user_list]\n",
        "user_list[:5]"
      ],
      "metadata": {
        "colab": {
          "base_uri": "https://localhost:8080/"
        },
        "id": "pYtYN2YgW_Ed",
        "outputId": "b43a36af-e7e9-480a-db8d-ce86f7e0c0d5"
      },
      "execution_count": 39,
      "outputs": [
        {
          "output_type": "execute_result",
          "data": {
            "text/plain": [
              "['USER1', 'USER2', 'USER3', 'USER4', 'USER5']"
            ]
          },
          "metadata": {},
          "execution_count": 39
        }
      ]
    },
    {
      "cell_type": "markdown",
      "source": [
        "## Fetch all signatures related to a single user"
      ],
      "metadata": {
        "id": "Bk-KR8EAZpU5"
      }
    },
    {
      "cell_type": "code",
      "source": [
        "# fetch all file names of user_id\n",
        "def all_files_related_to(user_id):\n",
        "  user_list = listdir(\"./drive/MyDrive/Work/Thesis/MOBISIG/USER\" + str(user_id) + \"/\")\n",
        "  return user_list\n",
        "\n",
        "all_files_related_to(1)[:5]"
      ],
      "metadata": {
        "colab": {
          "base_uri": "https://localhost:8080/"
        },
        "id": "-WJsokj6Zvaz",
        "outputId": "8239a471-a000-429d-c9ec-3c5fb27e2879"
      },
      "execution_count": 42,
      "outputs": [
        {
          "output_type": "execute_result",
          "data": {
            "text/plain": [
              "['SIGN_GEN_USER1_USER1_26.csv',\n",
              " 'SIGN_FOR_USER1_USER4_20.csv',\n",
              " 'SIGN_GEN_USER1_USER1_40.csv',\n",
              " 'SIGN_GEN_USER1_USER1_36.csv',\n",
              " 'SIGN_GEN_USER1_USER1_11.csv']"
            ]
          },
          "metadata": {},
          "execution_count": 42
        }
      ]
    },
    {
      "cell_type": "markdown",
      "source": [
        "### Create a table like the following\n",
        "\n",
        "\n",
        "| signature dataframe | label | means |\n",
        "| --- | --- | :-: |\n",
        "| SIG[] | 0 | FORGED |\n",
        "| SIG[] | 1 | ORIGINAL |\n",
        "| SIG[] | 0 | FORGED |\n",
        "| SIG[] | 0 | FORGED |\n",
        "\n",
        "Here signature dataframe is a matrix of a single signature attempt."
      ],
      "metadata": {
        "id": "XELkLfG6aQEg"
      }
    },
    {
      "cell_type": "markdown",
      "source": [
        "## Fetched all the original signatures"
      ],
      "metadata": {
        "id": "qAIsNEHu-727"
      }
    },
    {
      "cell_type": "code",
      "source": [
        "# array of original signatures\n",
        "orig_sigs = []\n",
        "for i in range(1, 46):\n",
        "  sig_data = pd.read_csv('/content/drive/MyDrive/Work/Thesis/MOBISIG/USER1/SIGN_GEN_USER1_USER1_' + str(i) +'.csv')\n",
        "  sig_data = sig_data.iloc[:, :3]\n",
        "  orig_sigs.append(sig_data)\n",
        "\n",
        "# pd.read_csv('/content/drive/MyDrive/Work/Thesis/MOBISIG/USER1/SIGN_GEN_USER1_USER1_1.csv')\n",
        "print(\"Shape of a signature\", orig_sigs[0].shape)"
      ],
      "metadata": {
        "colab": {
          "base_uri": "https://localhost:8080/"
        },
        "id": "YogdtUjdAFI4",
        "outputId": "8f534511-f9ad-473a-da7b-3c3a081a7736"
      },
      "execution_count": 11,
      "outputs": [
        {
          "output_type": "stream",
          "name": "stdout",
          "text": [
            "Shape of a signature (147, 3)\n"
          ]
        }
      ]
    },
    {
      "cell_type": "markdown",
      "source": [
        "## Normalized the signature into fixed number of data points"
      ],
      "metadata": {
        "id": "qeRB13KJU-32"
      }
    },
    {
      "cell_type": "code",
      "source": [
        "import math\n",
        "def distance(p1, p2):\n",
        "  return math.sqrt( ((p1[0]-p2[0])**2)+((p1[1]-p2[1])**2) )\n",
        "\n",
        "\n",
        "def midDistance(data, n):\n",
        "  dis = data[:, 3]\n",
        "  given_di = n\n",
        "  end_point = np.searchsorted(dis, given_di)\n",
        "  end_point_vdi = data[end_point, 3]\n",
        "  start_point_vdi = data[end_point - 1, 3]\n",
        "  start_d_point = data[end_point-1];\n",
        "  end_d_point = data[end_point]\n",
        "  div = (given_di - start_point_vdi) / (end_point_vdi - start_point_vdi)\n",
        "\n",
        "  new_point_x = (end_d_point[0] - start_d_point[0])*div + start_d_point[0]\n",
        "  new_point_y = (end_d_point[1] - start_d_point[1])*div + start_d_point[1]\n",
        "  \n",
        "  new_point = [new_point_x, new_point_y, start_d_point[2], start_d_point[3], given_di]\n",
        "  new_point = [round(x, 5) for x in new_point]\n",
        "  return new_point\n",
        "\n",
        "def cumulativeDistance(data):\n",
        "  # FIXME more accurate, print to see the issue in the beginning and ending\n",
        "  data = np.pad(data, ((0, 0), (0, 1)), mode='constant', constant_values=0)\n",
        "  c_data = data\n",
        "  sum = 0\n",
        "  for i in range(0, len(data) -1):\n",
        "    c_data[i][3] = sum\n",
        "    next_point = [c_data[i+1][0], c_data[i+1][1]]\n",
        "    current_point = [c_data[i][0], c_data[i][1]]\n",
        "    sum += distance(current_point, next_point)\n",
        "  return c_data\n",
        "\n",
        "\n",
        "def normalizeByDistance(data, n):\n",
        "  c_data = cumulativeDistance(data)\n",
        "  print(\"c_data\", c_data.shape)\n",
        "  total_distance = c_data[-2][3]\n",
        "  print(f'total distance: {total_distance}')\n",
        "  return np.array([ midDistance(c_data, (total_distance/n) * x) for x in range(1,n)])\n",
        "\n",
        "\n",
        "def normalizeSign(orig_sig):\n",
        "  tmp_np = np.array(orig_sig)\n",
        "  return normalizeByDistance(tmp_np, 91)\n",
        "\n",
        "\n",
        "tmp = normalizeSign(orig_sigs[0])\n",
        "plt.plot(tmp[:,0], tmp[:,1], \"bo\")\n",
        "plt.plot(tmp[:,0], tmp[:,1])\n",
        "print(\"shape of a signature\", tmp.shape)"
      ],
      "metadata": {
        "colab": {
          "base_uri": "https://localhost:8080/",
          "height": 322
        },
        "id": "qceWN3Zq01yU",
        "outputId": "57c341e4-0bd2-4e2b-fd76-ce05a4169a8d"
      },
      "execution_count": 13,
      "outputs": [
        {
          "output_type": "stream",
          "name": "stdout",
          "text": [
            "c_data (147, 4)\n",
            "total distance: 2912.8543458303825\n",
            "shape of a signature (90, 5)\n"
          ]
        },
        {
          "output_type": "display_data",
          "data": {
            "text/plain": [
              "<Figure size 432x288 with 1 Axes>"
            ],
            "image/png": "[encoded data removed]"
          },
          "metadata": {
            "needs_background": "light"
          }
        }
      ]
    },
    {
      "cell_type": "markdown",
      "source": [
        "## Converting all signatures to normalise"
      ],
      "metadata": {
        "id": "oo9tL2XdVkKu"
      }
    },
    {
      "cell_type": "code",
      "source": [
        ""
      ],
      "metadata": {
        "id": "tpYZ6hpuVjxT"
      },
      "execution_count": null,
      "outputs": []
    },
    {
      "cell_type": "code",
      "source": [
        "plt.plot(orig_sigs[0].iloc[:, 0], orig_sigs[0].iloc[:, 1], 'ro')"
      ],
      "metadata": {
        "colab": {
          "base_uri": "https://localhost:8080/",
          "height": 283
        },
        "id": "ruUSG5Q8zquB",
        "outputId": "bdc9f82f-0032-43d2-d1ba-25dc54d7b9fc"
      },
      "execution_count": 14,
      "outputs": [
        {
          "output_type": "execute_result",
          "data": {
            "text/plain": [
              "[<matplotlib.lines.Line2D at 0x7f7a003ff5d0>]"
            ]
          },
          "metadata": {},
          "execution_count": 14
        },
        {
          "output_type": "display_data",
          "data": {
            "text/plain": [
              "<Figure size 432x288 with 1 Axes>"
            ],
            "image/png": "[encoded data removed]"
          },
          "metadata": {
            "needs_background": "light"
          }
        }
      ]
    },
    {
      "cell_type": "code",
      "source": [
        ""
      ],
      "metadata": {
        "id": "Gn-M89QUyRvi"
      },
      "execution_count": null,
      "outputs": []
    },
    {
      "cell_type": "code",
      "source": [
        "for orig_sig in orig_sigs:\n",
        "  plt.plot(orig_sig.iloc[:,0], orig_sig.iloc[:,1])\n",
        "  print(len(orig_sig))\n",
        "\n",
        "# plt.plot(sig_to_vis.iloc[:,0], sig_to_vis.iloc[:,1])\n",
        "# plt.plot(sig_to_vis1.iloc[:,0], sig_to_vis1.iloc[:,1])"
      ],
      "metadata": {
        "id": "6z_XehXT-6mM"
      },
      "execution_count": null,
      "outputs": []
    },
    {
      "cell_type": "code",
      "source": [
        ""
      ],
      "metadata": {
        "id": "Ph_LmOoJFbuI"
      },
      "execution_count": null,
      "outputs": []
    }
  ]
}