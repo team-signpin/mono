{
  "nbformat": 4,
  "nbformat_minor": 0,
  "metadata": {
    "colab": {
      "name": "Online Signature",
      "provenance": [],
      "collapsed_sections": [],
      "toc_visible": true,
      "mount_file_id": "1vuwXMFMqdlXgmzbShwsS1_91Bo3P54_G",
      "authorship_tag": "ABX9TyMxUVgSEggwTZq3QCkLlcng",
      "include_colab_link": true
    },
    "kernelspec": {
      "name": "python3",
      "display_name": "Python 3"
    },
    "language_info": {
      "name": "python"
    }
  },
  "cells": [
    {
      "cell_type": "markdown",
      "metadata": {
        "id": "view-in-github",
        "colab_type": "text"
      },
      "source": [
        "<a href=\"https://colab.research.google.com/github/team-signpin/mono/blob/master/Online_Signature.ipynb\" target=\"_parent\"><img src=\"https://colab.research.google.com/assets/colab-badge.svg\" alt=\"Open In Colab\"/></a>"
      ]
    },
    {
      "cell_type": "code",
      "execution_count": null,
      "metadata": {
        "id": "9vJLFk3Q57a7"
      },
      "outputs": [],
      "source": [
        "from google.colab import drive\n",
        "drive.mount('/content/drive')"
      ]
    },
    {
      "cell_type": "code",
      "source": [
        "import json\n",
        "import numpy as np\n",
        "from sklearn.preprocessing import normalize\n",
        "import matplotlib.pyplot as plt"
      ],
      "metadata": {
        "id": "1rfXk48Hx2Ww"
      },
      "execution_count": null,
      "outputs": []
    },
    {
      "cell_type": "code",
      "source": [
        "import os\n",
        "\n",
        "# [x[0] for x in os.walk(\"./\")]\n",
        "#for x in next(os.walk('./drive/MyDrive/Work/Thesis/MOBISIG/USER1'))[2]:\n",
        "# print(x)"
      ],
      "metadata": {
        "id": "0KILxwr0u-gK"
      },
      "execution_count": null,
      "outputs": []
    },
    {
      "cell_type": "code",
      "source": [
        "import pandas as pd\n",
        "signature1 = pd.read_csv('/content/drive/MyDrive/Work/Thesis/MOBISIG/USER1/SIGN_FOR_USER1_USER2_2.csv')\n",
        "signature1.head()"
      ],
      "metadata": {
        "id": "4EMGRkRdwW_Q"
      },
      "execution_count": null,
      "outputs": []
    },
    {
      "cell_type": "code",
      "source": [
        "s1_coords = signature1.iloc[:,:2]\n",
        "s1_coords"
      ],
      "metadata": {
        "id": "1K_8V4hoxcTX"
      },
      "execution_count": null,
      "outputs": []
    },
    {
      "cell_type": "code",
      "source": [
        "s1_coords.plot()"
      ],
      "metadata": {
        "id": "NcpX001RzyV9"
      },
      "execution_count": null,
      "outputs": []
    },
    {
      "cell_type": "markdown",
      "source": [
        "## Fetch all signatures related to a single user\n",
        "\n"
      ],
      "metadata": {
        "id": "bjMCN18iXBZR"
      }
    },
    {
      "cell_type": "code",
      "source": [
        "# list of all users files\n",
        "from os import listdir\n",
        "user_list = listdir(\"./drive/MyDrive/Work/Thesis/MOBISIG\")\n",
        "user_list = user_list[2:] # removes stats and users file\n",
        "user_list = [int(x[4:]) for x in user_list]\n",
        "user_list.sort()\n",
        "user_list = [\"USER\" + str(x) for x in user_list]\n",
        "user_list[:5]"
      ],
      "metadata": {
        "id": "pYtYN2YgW_Ed"
      },
      "execution_count": null,
      "outputs": []
    },
    {
      "cell_type": "markdown",
      "source": [
        "## Fetch all signatures related to a single user"
      ],
      "metadata": {
        "id": "Bk-KR8EAZpU5"
      }
    },
    {
      "cell_type": "code",
      "source": [
        "# fetch all file names of user_id\n",
        "def all_files_related_to(user_id):\n",
        "  user_list = listdir(\"./drive/MyDrive/Work/Thesis/MOBISIG/USER\" + str(user_id) + \"/\")\n",
        "  return user_list\n",
        "\n",
        "all_files_related_to(1)[:5]"
      ],
      "metadata": {
        "id": "-WJsokj6Zvaz"
      },
      "execution_count": null,
      "outputs": []
    },
    {
      "cell_type": "markdown",
      "source": [
        "## Fetched all the original signatures"
      ],
      "metadata": {
        "id": "qAIsNEHu-727"
      }
    },
    {
      "cell_type": "code",
      "source": [
        "# array of original signatures\n",
        "user_id = 1\n",
        "orig_sigs = []\n",
        "for i in range(1, 46):\n",
        "  sig_data = pd.read_csv(f\"/content/drive/MyDrive/Work/Thesis/MOBISIG/USER1/SIGN_GEN_USER{user_id}_USER{user_id}_\" + str(i) +'.csv')\n",
        "  sig_data = sig_data.iloc[:, :3]\n",
        "  orig_sigs.append(sig_data)\n",
        "\n",
        "# pd.read_csv('/content/drive/MyDrive/Work/Thesis/MOBISIG/USER1/SIGN_GEN_USER1_USER1_1.csv')\n",
        "print(\"Shape of a signature\", orig_sigs[0].shape)"
      ],
      "metadata": {
        "id": "YogdtUjdAFI4"
      },
      "execution_count": null,
      "outputs": []
    },
    {
      "cell_type": "markdown",
      "source": [
        "## Normalized the signature into fixed number of data points"
      ],
      "metadata": {
        "id": "qeRB13KJU-32"
      }
    },
    {
      "cell_type": "code",
      "source": [
        "import math\n",
        "def distance(p1, p2):\n",
        "  return math.sqrt( ((p1[0]-p2[0])**2)+((p1[1]-p2[1])**2) )\n",
        "\n",
        "\n",
        "def midDistance(data, n):\n",
        "  dis = data[:, 3]\n",
        "  given_di = n\n",
        "  end_point = np.searchsorted(dis, given_di)\n",
        "  end_point_vdi = data[end_point, 3]\n",
        "  start_point_vdi = data[end_point - 1, 3]\n",
        "  start_d_point = data[end_point-1];\n",
        "  end_d_point = data[end_point]\n",
        "  div = (given_di - start_point_vdi) / (end_point_vdi - start_point_vdi)\n",
        "\n",
        "  new_point_x = (end_d_point[0] - start_d_point[0])*div + start_d_point[0]\n",
        "  new_point_y = (end_d_point[1] - start_d_point[1])*div + start_d_point[1]\n",
        "  \n",
        "  new_point = [new_point_x, new_point_y, start_d_point[2], start_d_point[3], given_di]\n",
        "  new_point = [round(x, 5) for x in new_point]\n",
        "  return new_point\n",
        "\n",
        "def cumulativeDistance(data):\n",
        "  # FIXME more accurate, print to see the issue in the beginning and ending\n",
        "  data = np.pad(data, ((0, 0), (0, 1)), mode='constant', constant_values=0)\n",
        "  c_data = data\n",
        "  sum = 0\n",
        "  for i in range(0, len(data) -1):\n",
        "    c_data[i][3] = sum\n",
        "    next_point = [c_data[i+1][0], c_data[i+1][1]]\n",
        "    current_point = [c_data[i][0], c_data[i][1]]\n",
        "    sum += distance(current_point, next_point)\n",
        "  return c_data\n",
        "\n",
        "\n",
        "def normalizeByDistance(data, n):\n",
        "  c_data = cumulativeDistance(data)\n",
        "  # print(\"c_data\", c_data.shape)\n",
        "  total_distance = c_data[-2][3]\n",
        "  # print(f'total distance: {total_distance}')\n",
        "  return np.array([ midDistance(c_data, (total_distance/n) * x) for x in range(1,n)])\n",
        "\n",
        "\n",
        "def normalizeSign(orig_sig):\n",
        "  tmp_np = np.array(orig_sig)\n",
        "  tmp_normalized = normalizeByDistance(tmp_np, 91)\n",
        "  return tmp_normalized / 1200\n",
        "\n",
        "\n",
        "tmp = normalizeSign(orig_sigs[0])\n",
        "plt.plot(tmp[:,0], tmp[:,1], \"bo\")\n",
        "plt.plot(tmp[:,0], tmp[:,1])\n",
        "print(\"shape of a signature\", tmp.shape)"
      ],
      "metadata": {
        "id": "qceWN3Zq01yU"
      },
      "execution_count": null,
      "outputs": []
    },
    {
      "cell_type": "markdown",
      "source": [
        "## Fetch forged signatures"
      ],
      "metadata": {
        "id": "_EGcvK1qJ31Q"
      }
    },
    {
      "cell_type": "code",
      "source": [
        "# List all signature files of a user\n",
        "from os import listdir\n",
        "user_sign_path = \"./drive/MyDrive/Work/Thesis/MOBISIG/USER\" + str(user_id)\n",
        "sign_list = listdir(user_sign_path)\n",
        "sig_data_dict = {}\n",
        "for sign in sign_list:\n",
        "  tmp_sig_data = pd.read_csv(f\"{user_sign_path}/{sign}\")\n",
        "  sig_data_dict[sign] = tmp_sig_data.iloc[:, :3]\n",
        "\n",
        "len(sig_data_dict)"
      ],
      "metadata": {
        "id": "Bir5ZGxfJaXL"
      },
      "execution_count": null,
      "outputs": []
    },
    {
      "cell_type": "code",
      "source": [
        "# Normalize and label\n",
        "normalized_signs_dict = {}\n",
        "for key, value in sig_data_dict.items():\n",
        "  # print(key[5:8], value.shape)\n",
        "  try:\n",
        "    normalized_signs_dict[key] = normalizeSign(value)\n",
        "  except IndexError as e:\n",
        "    print(key, e)\n",
        "\n",
        "\n",
        "len(normalized_signs_dict)"
      ],
      "metadata": {
        "id": "MgYp_a1WTFQE"
      },
      "execution_count": null,
      "outputs": []
    },
    {
      "cell_type": "code",
      "source": [
        "# trying to plot a normalized sign\n",
        "\n",
        "\n",
        "# tmp = normalized_signs[3]\n",
        "last = []\n",
        "for key, tmp in normalized_signs_dict.items():\n",
        "  # plt.plot(tmp[:,0], tmp[:,1], \"bo\")\n",
        "  tmp = tmp[:,:3]\n",
        "  last = tmp\n",
        "  try:\n",
        "    plt.plot(tmp[:,0], tmp[:,1])\n",
        "  except TypeError as e:\n",
        "    print(e)\n",
        "\n",
        "len(last)"
      ],
      "metadata": {
        "id": "gVmG0NeYV6xc"
      },
      "execution_count": null,
      "outputs": []
    },
    {
      "cell_type": "markdown",
      "source": [
        "Reshaped"
      ],
      "metadata": {
        "id": "2lvhetTnyg1U"
      }
    },
    {
      "cell_type": "code",
      "source": [
        "# Reshaped\n",
        "reshaped_signs_dict = {}\n",
        "\n",
        "for key, value in normalized_signs_dict.items():\n",
        "  tmp = value[:, :3]\n",
        "  reshaped_signs_dict[key] = tmp.reshape(90*3)\n",
        "\n",
        "reshaped_signs_dict.keys()\n",
        "reshaped_signs_dict['SIGN_GEN_USER1_USER1_26.csv'][0]"
      ],
      "metadata": {
        "id": "iyD4JFHxyiqP"
      },
      "execution_count": null,
      "outputs": []
    },
    {
      "cell_type": "markdown",
      "source": [
        "## Preparing labels"
      ],
      "metadata": {
        "id": "F1z5EtyG8SwF"
      }
    },
    {
      "cell_type": "code",
      "source": [
        "# Preparing labels\n",
        "\n",
        "tmp_labels = reshaped_signs_dict.keys()\n",
        "tmp_labels = list(tmp_labels)\n",
        "labels = []\n",
        "\n",
        "for label in tmp_labels:\n",
        "  print(label[5:8])\n",
        "  if label[5:8] == \"FOR\":\n",
        "    labels.append(0)\n",
        "  elif label[5:8]"
      ],
      "metadata": {
        "colab": {
          "base_uri": "https://localhost:8080/",
          "height": 131
        },
        "id": "Ej11XGl22tyg",
        "outputId": "b1e1ffa8-1b94-49a2-c28e-e5051bdf1c99"
      },
      "execution_count": 1,
      "outputs": [
        {
          "output_type": "error",
          "ename": "SyntaxError",
          "evalue": "ignored",
          "traceback": [
            "\u001b[0;36m  File \u001b[0;32m\"<ipython-input-1-f5cf4a1a0c31>\"\u001b[0;36m, line \u001b[0;32m11\u001b[0m\n\u001b[0;31m    elif label[5:8]\u001b[0m\n\u001b[0m                   ^\u001b[0m\n\u001b[0;31mSyntaxError\u001b[0m\u001b[0;31m:\u001b[0m invalid syntax\n"
          ]
        }
      ]
    },
    {
      "cell_type": "markdown",
      "source": [
        "### Create a table like the following\n",
        "\n",
        "\n",
        "| signature dataframe | label | means |\n",
        "| --- | --- | :-: |\n",
        "| SIG[] | 0 | FORGED |\n",
        "| SIG[] | 1 | ORIGINAL |\n",
        "| SIG[] | 0 | FORGED |\n",
        "| SIG[] | 0 | FORGED |\n",
        "\n",
        "Here signature dataframe is a matrix of a single signature attempt."
      ],
      "metadata": {
        "id": "XELkLfG6aQEg"
      }
    },
    {
      "cell_type": "code",
      "source": [
        ""
      ],
      "metadata": {
        "id": "XFT-oOA0wRct"
      },
      "execution_count": null,
      "outputs": []
    },
    {
      "cell_type": "markdown",
      "source": [
        "## Converting all signatures to normalise"
      ],
      "metadata": {
        "id": "oo9tL2XdVkKu"
      }
    },
    {
      "cell_type": "code",
      "source": [
        ""
      ],
      "metadata": {
        "id": "tpYZ6hpuVjxT"
      },
      "execution_count": null,
      "outputs": []
    },
    {
      "cell_type": "code",
      "source": [
        "plt.plot(orig_sigs[0].iloc[:, 0], orig_sigs[0].iloc[:, 1], 'ro')"
      ],
      "metadata": {
        "id": "ruUSG5Q8zquB"
      },
      "execution_count": null,
      "outputs": []
    },
    {
      "cell_type": "code",
      "source": [
        ""
      ],
      "metadata": {
        "id": "Gn-M89QUyRvi"
      },
      "execution_count": null,
      "outputs": []
    },
    {
      "cell_type": "code",
      "source": [
        "for orig_sig in orig_sigs:\n",
        "  plt.plot(orig_sig.iloc[:,0], orig_sig.iloc[:,1])\n",
        "  print(len(orig_sig))\n",
        "\n",
        "# plt.plot(sig_to_vis.iloc[:,0], sig_to_vis.iloc[:,1])\n",
        "# plt.plot(sig_to_vis1.iloc[:,0], sig_to_vis1.iloc[:,1])"
      ],
      "metadata": {
        "id": "6z_XehXT-6mM"
      },
      "execution_count": null,
      "outputs": []
    },
    {
      "cell_type": "code",
      "source": [
        ""
      ],
      "metadata": {
        "id": "Ph_LmOoJFbuI"
      },
      "execution_count": null,
      "outputs": []
    },
    {
      "cell_type": "code",
      "source": [
        "import tensorflow as tf"
      ],
      "metadata": {
        "id": "3lf6Y1NI3PFP"
      },
      "execution_count": null,
      "outputs": []
    },
    {
      "cell_type": "code",
      "source": [
        ""
      ],
      "metadata": {
        "id": "_fDG-sD48Prt"
      },
      "execution_count": null,
      "outputs": []
    }
  ]
}